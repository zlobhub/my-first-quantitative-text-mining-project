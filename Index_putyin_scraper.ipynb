{
 "cells": [
  {
   "cell_type": "code",
   "execution_count": 1,
   "metadata": {
    "ExecuteTime": {
     "end_time": "2023-10-05T11:47:49.227990700Z",
     "start_time": "2023-10-05T11:47:43.719191Z"
    }
   },
   "outputs": [],
   "source": [
    "#Loading Packages\n",
    "\n",
    "from bs4 import BeautifulSoup\n",
    "import requests\n",
    "import pandas as pd\n",
    "from datetime import date, timedelta\n",
    "from selenium import webdriver\n",
    "from selenium.webdriver.common.by import By\n",
    "# Ezek nekem nem kellettek, mert újabb a seleniumom.\n",
    "#from webdriver_manager.firefox import GeckoDriverManager\n",
    "#from selenium.webdriver.common.by import By\n",
    "import time\n",
    "import pickle\n",
    "import tqdm\n",
    "from urllib.request import urlopen"
   ]
  },
  {
   "cell_type": "code",
   "execution_count": 30,
   "metadata": {
    "ExecuteTime": {
     "end_time": "2023-10-04T10:59:55.024120200Z",
     "start_time": "2023-10-04T10:59:35.443689100Z"
    }
   },
   "outputs": [],
   "source": [
    "# A legújabb verziójú seleniumon nálam így futott le, Huba, de te hagyd meg az előzőt, ha azzal ment! Az importokat is tartsd meg eredeti formájában\n",
    "# Creating a driver - a legújabbon nálam így futott le, Huba, de te hagyd meg az előzőt!\n",
    "\n",
    "driver = webdriver.Firefox()"
   ]
  },
  {
   "cell_type": "code",
   "execution_count": 4,
   "metadata": {},
   "outputs": [],
   "source": [
    "#link\n",
    "\n",
    "#https://index.hu/24ora/?s=Putyin&tol=2019-08-24&ig=2023-08-24&profil=&rovat=&cimke=h%C3%A1bor%C3%BA&word=1&pepe=1#\n",
    "# \"Putyin\" - 2019.08.24. -- 2023.08.24. es időtartamban  háború címkével ellátva\n",
    "\n"
   ]
  },
  {
   "cell_type": "code",
   "execution_count": 31,
   "metadata": {
    "ExecuteTime": {
     "end_time": "2023-10-04T11:00:26.396954600Z",
     "start_time": "2023-10-04T11:00:07.467999800Z"
    }
   },
   "outputs": [],
   "source": [
    "# The driver gets the link\n",
    "\n",
    "driver.get(\"https://index.hu/24ora/?s=Putyin&tol=2019-08-24&ig=2023-08-24&profil=&rovat=&cimke=h%C3%A1bor%C3%BA&word=1&pepe=1#\")"
   ]
  },
  {
   "cell_type": "code",
   "execution_count": 32,
   "metadata": {
    "ExecuteTime": {
     "end_time": "2023-10-04T11:00:31.092068100Z",
     "start_time": "2023-10-04T11:00:26.397957200Z"
    }
   },
   "outputs": [],
   "source": [
    "#finding cookies, and clicking into\n",
    "\n",
    "element = driver.find_element(By.CLASS_NAME, \"css-k8o10q\")\n",
    "element.click()"
   ]
  },
  {
   "cell_type": "code",
   "execution_count": 33,
   "metadata": {
    "ExecuteTime": {
     "end_time": "2023-10-04T11:00:42.339115Z",
     "start_time": "2023-10-04T11:00:39.458022900Z"
    }
   },
   "outputs": [],
   "source": [
    "# finding the advertising element and clicking later\n",
    "\n",
    "element = driver.find_element(By.ID, \"onesignal-slidedown-cancel-button\")\n",
    "element.click()"
   ]
  },
  {
   "cell_type": "code",
   "execution_count": 34,
   "metadata": {
    "ExecuteTime": {
     "end_time": "2023-10-04T11:03:22.372295700Z",
     "start_time": "2023-10-04T11:01:13.914352Z"
    }
   },
   "outputs": [],
   "source": [
    "# Height of scroll, while loading the page\n",
    "\n",
    "last_height = driver.execute_script(\"return document.body.scrollHeight\")\n",
    "while True:\n",
    "    # scrolls down\n",
    "    driver.execute_script(\"window.scrollTo(0, document.body.scrollHeight);\")\n",
    "    # Waits for the pagee to loead given in sec / better technique: `waitforpageload` if possible\n",
    "    time.sleep(2)\n",
    "    # calculating scroll height\n",
    "    new_height = driver.execute_script(\"return document.body.scrollHeight\")\n",
    "    if new_height == last_height:\n",
    "        break\n",
    "    last_height = new_height"
   ]
  },
  {
   "cell_type": "markdown",
   "metadata": {},
   "source": [
    "## BeautifulSoup "
   ]
  },
  {
   "cell_type": "code",
   "execution_count": 10,
   "metadata": {
    "ExecuteTime": {
     "end_time": "2023-10-04T11:08:27.642513800Z",
     "start_time": "2023-10-04T11:08:10.797240200Z"
    }
   },
   "outputs": [],
   "source": [
    "#loading the scraped webpage with BeautifulSoup\n",
    "\n",
    "s = BeautifulSoup(driver.page_source, 'lxml')"
   ]
  },
  {
   "cell_type": "code",
   "execution_count": 50,
   "metadata": {
    "ExecuteTime": {
     "end_time": "2023-10-04T11:08:38.694473400Z",
     "start_time": "2023-10-04T11:08:38.197801600Z"
    }
   },
   "outputs": [],
   "source": [
    "#Making a list\n",
    "    #Finding 'a' tags - which are links in html code\n",
    "        #iterating through them, to load them to the link_list\n",
    "\n",
    "\n",
    "links_list = list()\n",
    "links = s.find_all('a')\n",
    "for link in links:\n",
    "    try:\n",
    "        links_list.append(link['href'])\n",
    "    except:\n",
    "        continue"
   ]
  },
  {
   "cell_type": "code",
   "execution_count": 49,
   "metadata": {},
   "outputs": [
    {
     "data": {
      "text/plain": [
       "0"
      ]
     },
     "execution_count": 49,
     "metadata": {},
     "output_type": "execute_result"
    }
   ],
   "source": [
    "len(links_list)"
   ]
  },
  {
   "cell_type": "code",
   "execution_count": 70,
   "metadata": {
    "ExecuteTime": {
     "end_time": "2023-10-04T11:08:44.217379700Z",
     "start_time": "2023-10-04T11:08:44.164282200Z"
    }
   },
   "outputs": [],
   "source": [
    "# Appending with list comprehension\n",
    "# Or this is maybe just filtering the links list\n",
    "\n",
    "links_list = [i for i in links_list if i.startswith(\"https://index.hu/belfold\") or\n",
    "              i.startswith(\"https://index.hu/kulfold\") or\n",
    "              i.startswith(\"https://index.hu/eu\") or\n",
    "              i.startswith(\"https://index.hu/gazdasag\") or\n",
    "              i.startswith(\"https://index.hu/velemeny\")]"
   ]
  },
  {
   "cell_type": "code",
   "execution_count": 71,
   "metadata": {},
   "outputs": [
    {
     "data": {
      "text/plain": [
       "['https://index.hu/kulfold/2023/08/24/haboru-orosz-ukran-konfliktus-oroszorszag-vlagyimir-putyin-jevgenyij-prigozsin/',\n",
       " 'https://index.hu/kulfold/2023/08/24/haboru-orosz-ukran-konfliktus-oroszorszag-vlagyimir-putyin-jevgenyij-prigozsin/',\n",
       " 'https://index.hu/kulfold/2023/08/24/haboru-orosz-ukran-konfliktus-oroszorszag-vlagyimir-putyin-jevgenyij-prigozsin/',\n",
       " 'https://index.hu/kulfold/2023/08/24/haboru-orosz-ukran-konfliktus-oroszorszag-jevgenyij-prigozsin-repulogep-szerencsetlenseg/',\n",
       " 'https://index.hu/kulfold/2023/08/24/haboru-orosz-ukran-konfliktus-oroszorszag-jevgenyij-prigozsin-repulogep-szerencsetlenseg/',\n",
       " 'https://index.hu/kulfold/2023/08/24/haboru-orosz-ukran-konfliktus-oroszorszag-jevgenyij-prigozsin-repulogep-szerencsetlenseg/']"
      ]
     },
     "execution_count": 71,
     "metadata": {},
     "output_type": "execute_result"
    }
   ],
   "source": [
    "links_list[:6]\n"
   ]
  },
  {
   "cell_type": "code",
   "execution_count": 72,
   "metadata": {},
   "outputs": [],
   "source": [
    "# Generating unique links list\n",
    "\n",
    "links_list = list(set(links_list))"
   ]
  },
  {
   "cell_type": "code",
   "execution_count": 74,
   "metadata": {},
   "outputs": [
    {
     "data": {
      "text/plain": [
       "1284"
      ]
     },
     "execution_count": 74,
     "metadata": {},
     "output_type": "execute_result"
    }
   ],
   "source": [
    "len(links_list)"
   ]
  },
  {
   "cell_type": "code",
   "execution_count": 59,
   "metadata": {
    "ExecuteTime": {
     "end_time": "2023-10-04T11:09:41.430423200Z",
     "start_time": "2023-10-04T11:09:40.584022100Z"
    }
   },
   "outputs": [
    {
     "data": {
      "text/plain": [
       "5071"
      ]
     },
     "execution_count": 59,
     "metadata": {},
     "output_type": "execute_result"
    }
   ],
   "source": [
    "# Checking the links\n",
    "len(links_list)\n"
   ]
  },
  {
   "cell_type": "code",
   "execution_count": 75,
   "metadata": {
    "ExecuteTime": {
     "end_time": "2023-10-04T11:11:49.286598500Z",
     "start_time": "2023-10-04T11:11:49.186121200Z"
    }
   },
   "outputs": [],
   "source": [
    "# Pickling: It is a process where a Python object hierarchy is converted into a byte stream.\n",
    "\n",
    "with open('index_links_list.pickle', 'wb') as index_links_list:\n",
    "    pickle.dump(links_list, index_links_list)\n",
    "\n",
    "    #This function is called to serialize an object hierarchy."
   ]
  },
  {
   "cell_type": "code",
   "execution_count": 76,
   "metadata": {
    "ExecuteTime": {
     "end_time": "2023-10-05T11:47:49.349207200Z",
     "start_time": "2023-10-05T11:47:49.239751800Z"
    }
   },
   "outputs": [],
   "source": [
    "# Unpickling: It is the inverse of Pickling process where a byte stream is converted into an object hierarchy. \n",
    "\n",
    "with open('index_links_list.pickle', 'rb') as index_links_list:\n",
    " \n",
    "    links_list = pickle.load(index_links_list)\n",
    "    # This function is called to de-serialize a data stream."
   ]
  },
  {
   "cell_type": "code",
   "execution_count": 77,
   "metadata": {
    "ExecuteTime": {
     "end_time": "2023-10-04T11:12:54.353089800Z",
     "start_time": "2023-10-04T11:12:54.263233900Z"
    },
    "collapsed": false
   },
   "outputs": [],
   "source": [
    "#pandas lépést egyben megcsináljuk a linklistával"
   ]
  },
  {
   "cell_type": "code",
   "execution_count": 78,
   "metadata": {
    "ExecuteTime": {
     "end_time": "2023-10-05T11:47:49.419382300Z",
     "start_time": "2023-10-05T11:47:49.362460800Z"
    },
    "collapsed": false
   },
   "outputs": [],
   "source": [
    "#egy oszlopos dataframe, mely oszlop a linkeket tartalmazza, és link a neve\n",
    "df = pd.DataFrame({'link': links_list})"
   ]
  },
  {
   "cell_type": "code",
   "execution_count": 80,
   "metadata": {},
   "outputs": [
    {
     "data": {
      "text/html": [
       "<div>\n",
       "<style scoped>\n",
       "    .dataframe tbody tr th:only-of-type {\n",
       "        vertical-align: middle;\n",
       "    }\n",
       "\n",
       "    .dataframe tbody tr th {\n",
       "        vertical-align: top;\n",
       "    }\n",
       "\n",
       "    .dataframe thead th {\n",
       "        text-align: right;\n",
       "    }\n",
       "</style>\n",
       "<table border=\"1\" class=\"dataframe\">\n",
       "  <thead>\n",
       "    <tr style=\"text-align: right;\">\n",
       "      <th></th>\n",
       "      <th>link</th>\n",
       "    </tr>\n",
       "  </thead>\n",
       "  <tbody>\n",
       "    <tr>\n",
       "      <th>0</th>\n",
       "      <td>https://index.hu/kulfold/2021/12/29/kijev-oros...</td>\n",
       "    </tr>\n",
       "    <tr>\n",
       "      <th>1</th>\n",
       "      <td>https://index.hu/kulfold/2022/03/24/ljubov-nep...</td>\n",
       "    </tr>\n",
       "    <tr>\n",
       "      <th>2</th>\n",
       "      <td>https://index.hu/kulfold/2023/06/21/haboru-oro...</td>\n",
       "    </tr>\n",
       "    <tr>\n",
       "      <th>3</th>\n",
       "      <td>https://index.hu/kulfold/2022/12/23/haboru-oro...</td>\n",
       "    </tr>\n",
       "    <tr>\n",
       "      <th>4</th>\n",
       "      <td>https://index.hu/kulfold/2023/05/30/haboru-oro...</td>\n",
       "    </tr>\n",
       "    <tr>\n",
       "      <th>...</th>\n",
       "      <td>...</td>\n",
       "    </tr>\n",
       "    <tr>\n",
       "      <th>1279</th>\n",
       "      <td>https://index.hu/kulfold/2022/08/12/haboru-zap...</td>\n",
       "    </tr>\n",
       "    <tr>\n",
       "      <th>1280</th>\n",
       "      <td>https://index.hu/kulfold/2023/01/29/haboru-oro...</td>\n",
       "    </tr>\n",
       "    <tr>\n",
       "      <th>1281</th>\n",
       "      <td>https://index.hu/kulfold/2023/02/24/haboru-ukr...</td>\n",
       "    </tr>\n",
       "    <tr>\n",
       "      <th>1282</th>\n",
       "      <td>https://index.hu/kulfold/2022/05/06/putyin-els...</td>\n",
       "    </tr>\n",
       "    <tr>\n",
       "      <th>1283</th>\n",
       "      <td>https://index.hu/kulfold/2022/04/09/haboru-oro...</td>\n",
       "    </tr>\n",
       "  </tbody>\n",
       "</table>\n",
       "<p>1284 rows × 1 columns</p>\n",
       "</div>"
      ],
      "text/plain": [
       "                                                   link\n",
       "0     https://index.hu/kulfold/2021/12/29/kijev-oros...\n",
       "1     https://index.hu/kulfold/2022/03/24/ljubov-nep...\n",
       "2     https://index.hu/kulfold/2023/06/21/haboru-oro...\n",
       "3     https://index.hu/kulfold/2022/12/23/haboru-oro...\n",
       "4     https://index.hu/kulfold/2023/05/30/haboru-oro...\n",
       "...                                                 ...\n",
       "1279  https://index.hu/kulfold/2022/08/12/haboru-zap...\n",
       "1280  https://index.hu/kulfold/2023/01/29/haboru-oro...\n",
       "1281  https://index.hu/kulfold/2023/02/24/haboru-ukr...\n",
       "1282  https://index.hu/kulfold/2022/05/06/putyin-els...\n",
       "1283  https://index.hu/kulfold/2022/04/09/haboru-oro...\n",
       "\n",
       "[1284 rows x 1 columns]"
      ]
     },
     "execution_count": 80,
     "metadata": {},
     "output_type": "execute_result"
    }
   ],
   "source": [
    "df.drop_duplicates()"
   ]
  },
  {
   "cell_type": "code",
   "execution_count": 81,
   "metadata": {
    "ExecuteTime": {
     "end_time": "2023-10-05T11:47:50.962012700Z",
     "start_time": "2023-10-05T11:47:49.376494200Z"
    },
    "collapsed": false
   },
   "outputs": [],
   "source": [
    "from tqdm.auto import tqdm  # for notebooks"
   ]
  },
  {
   "cell_type": "code",
   "execution_count": 82,
   "metadata": {
    "ExecuteTime": {
     "end_time": "2023-10-05T11:47:51.014203500Z",
     "start_time": "2023-10-05T11:47:50.967979800Z"
    },
    "collapsed": false
   },
   "outputs": [],
   "source": [
    "tqdm.pandas()"
   ]
  },
  {
   "cell_type": "code",
   "execution_count": 83,
   "metadata": {
    "ExecuteTime": {
     "end_time": "2023-10-05T11:47:51.068906900Z",
     "start_time": "2023-10-05T11:47:50.992959600Z"
    },
    "collapsed": false
   },
   "outputs": [],
   "source": [
    "def fetch_html(link):\n",
    "    return requests.get(link).content\n",
    "\n",
    "def parse_html(html):\n",
    "    s = BeautifulSoup(html, 'lxml')\n",
    "    extract = lambda selector: s.find('div', {'class': selector}).get_text().strip() if s.find('div', {'class': selector}) else None\n",
    "\n",
    "    return {\n",
    "        \"title\": extract(\"content-title\"),\n",
    "        \"author\": extract(\"kovetes nem-kovetheto\") or extract(\"kovetes\"),\n",
    "        \"date\": extract(\"datum\"),\n",
    "        \"text\": extract(\"cikk-torzs\"),\n",
    "        \"lead\": extract(\"lead\")\n",
    "    }\n",
    "\n",
    "def get_article_data(link):\n",
    "    html = fetch_html(link)\n",
    "    data = parse_html(html) # ez egy dictionary\n",
    "    data['html'] = html # html nevű key létrehozása, és ahhoz hozzáadva a html.\n",
    "    return pd.Series(data) # ha Series-t return-öl ebben a formában, abból DataFrame lesz a végén"
   ]
  },
  {
   "cell_type": "code",
   "execution_count": 84,
   "metadata": {
    "ExecuteTime": {
     "start_time": "2023-10-05T11:47:51.039998300Z"
    },
    "collapsed": false,
    "is_executing": true
   },
   "outputs": [
    {
     "name": "stderr",
     "output_type": "stream",
     "text": [
      "  0%|          | 0/1284 [00:00<?, ?it/s]"
     ]
    },
    {
     "name": "stderr",
     "output_type": "stream",
     "text": [
      "100%|██████████| 1284/1284 [11:55<00:00,  1.80it/s]\n"
     ]
    }
   ],
   "source": [
    "df = pd.concat([df['link'].progress_apply(get_article_data), df],axis=1)"
   ]
  },
  {
   "cell_type": "code",
   "execution_count": 85,
   "metadata": {},
   "outputs": [
    {
     "data": {
      "text/html": [
       "<div>\n",
       "<style scoped>\n",
       "    .dataframe tbody tr th:only-of-type {\n",
       "        vertical-align: middle;\n",
       "    }\n",
       "\n",
       "    .dataframe tbody tr th {\n",
       "        vertical-align: top;\n",
       "    }\n",
       "\n",
       "    .dataframe thead th {\n",
       "        text-align: right;\n",
       "    }\n",
       "</style>\n",
       "<table border=\"1\" class=\"dataframe\">\n",
       "  <thead>\n",
       "    <tr style=\"text-align: right;\">\n",
       "      <th></th>\n",
       "      <th>title</th>\n",
       "      <th>author</th>\n",
       "      <th>date</th>\n",
       "      <th>text</th>\n",
       "      <th>lead</th>\n",
       "      <th>html</th>\n",
       "      <th>link</th>\n",
       "    </tr>\n",
       "  </thead>\n",
       "  <tbody>\n",
       "    <tr>\n",
       "      <th>0</th>\n",
       "      <td>Orosz támadásra készül a kijevi polgármester h...</td>\n",
       "      <td>Kovács Ferenc</td>\n",
       "      <td>2021.12.29. 19:08</td>\n",
       "      <td>A kijevi lakosoknak sürgősen gondoskodniuk kel...</td>\n",
       "      <td>None</td>\n",
       "      <td>b'&lt;!DOCTYPE html&gt;\\n&lt;html class=\"no-js\" lang=\"h...</td>\n",
       "      <td>https://index.hu/kulfold/2021/12/29/kijev-oros...</td>\n",
       "    </tr>\n",
       "    <tr>\n",
       "      <th>1</th>\n",
       "      <td>Ukrán nagykövet az Indexnek: Putyin nem áll me...</td>\n",
       "      <td>Bendarzsevszkij Anton</td>\n",
       "      <td>2022.03.24. 13:23\\nMódosítva: 2022.03.24. 13:23</td>\n",
       "      <td>Egy hónapja tart az Oroszország által február ...</td>\n",
       "      <td>Oroszország Ukrajna ellen indított háborújának...</td>\n",
       "      <td>b'&lt;!DOCTYPE html&gt;\\n&lt;html class=\"no-js\" lang=\"h...</td>\n",
       "      <td>https://index.hu/kulfold/2022/03/24/ljubov-nep...</td>\n",
       "    </tr>\n",
       "    <tr>\n",
       "      <th>2</th>\n",
       "      <td>Vlagyimir Putyin hadrendbe állítja a rettegett...</td>\n",
       "      <td>Index</td>\n",
       "      <td></td>\n",
       "      <td>None</td>\n",
       "      <td>None</td>\n",
       "      <td>b'&lt;!DOCTYPE html&gt;\\n&lt;html class=\"no-js\" lang=\"h...</td>\n",
       "      <td>https://index.hu/kulfold/2023/06/21/haboru-oro...</td>\n",
       "    </tr>\n",
       "    <tr>\n",
       "      <th>3</th>\n",
       "      <td>A háború csúcsfegyvere, amelyet világszerte ak...</td>\n",
       "      <td>Faragó István</td>\n",
       "      <td>2022.12.23. 20:04</td>\n",
       "      <td>Az elmúlt évek, így a 2022-es esztendő egyik l...</td>\n",
       "      <td>A harcászati drónokat sokkal költséghatékonyab...</td>\n",
       "      <td>b'&lt;!DOCTYPE html&gt;\\n&lt;html class=\"no-js\" lang=\"h...</td>\n",
       "      <td>https://index.hu/kulfold/2022/12/23/haboru-oro...</td>\n",
       "    </tr>\n",
       "    <tr>\n",
       "      <th>4</th>\n",
       "      <td>„Ti büdös disznók!” – kemény támadás érte az o...</td>\n",
       "      <td>Bereznay István</td>\n",
       "      <td>2023.05.30. 21:09</td>\n",
       "      <td>Május 30-án hajnalban több tucat drón (egyesek...</td>\n",
       "      <td>Kedd hajnalban dróntámadás érte az orosz fővár...</td>\n",
       "      <td>b'&lt;!DOCTYPE html&gt;\\n&lt;html class=\"no-js\" lang=\"h...</td>\n",
       "      <td>https://index.hu/kulfold/2023/05/30/haboru-oro...</td>\n",
       "    </tr>\n",
       "  </tbody>\n",
       "</table>\n",
       "</div>"
      ],
      "text/plain": [
       "                                               title                 author  \\\n",
       "0  Orosz támadásra készül a kijevi polgármester h...          Kovács Ferenc   \n",
       "1  Ukrán nagykövet az Indexnek: Putyin nem áll me...  Bendarzsevszkij Anton   \n",
       "2  Vlagyimir Putyin hadrendbe állítja a rettegett...                  Index   \n",
       "3  A háború csúcsfegyvere, amelyet világszerte ak...          Faragó István   \n",
       "4  „Ti büdös disznók!” – kemény támadás érte az o...        Bereznay István   \n",
       "\n",
       "                                              date  \\\n",
       "0                                2021.12.29. 19:08   \n",
       "1  2022.03.24. 13:23\\nMódosítva: 2022.03.24. 13:23   \n",
       "2                                                    \n",
       "3                                2022.12.23. 20:04   \n",
       "4                                2023.05.30. 21:09   \n",
       "\n",
       "                                                text  \\\n",
       "0  A kijevi lakosoknak sürgősen gondoskodniuk kel...   \n",
       "1  Egy hónapja tart az Oroszország által február ...   \n",
       "2                                               None   \n",
       "3  Az elmúlt évek, így a 2022-es esztendő egyik l...   \n",
       "4  Május 30-án hajnalban több tucat drón (egyesek...   \n",
       "\n",
       "                                                lead  \\\n",
       "0                                               None   \n",
       "1  Oroszország Ukrajna ellen indított háborújának...   \n",
       "2                                               None   \n",
       "3  A harcászati drónokat sokkal költséghatékonyab...   \n",
       "4  Kedd hajnalban dróntámadás érte az orosz fővár...   \n",
       "\n",
       "                                                html  \\\n",
       "0  b'<!DOCTYPE html>\\n<html class=\"no-js\" lang=\"h...   \n",
       "1  b'<!DOCTYPE html>\\n<html class=\"no-js\" lang=\"h...   \n",
       "2  b'<!DOCTYPE html>\\n<html class=\"no-js\" lang=\"h...   \n",
       "3  b'<!DOCTYPE html>\\n<html class=\"no-js\" lang=\"h...   \n",
       "4  b'<!DOCTYPE html>\\n<html class=\"no-js\" lang=\"h...   \n",
       "\n",
       "                                                link  \n",
       "0  https://index.hu/kulfold/2021/12/29/kijev-oros...  \n",
       "1  https://index.hu/kulfold/2022/03/24/ljubov-nep...  \n",
       "2  https://index.hu/kulfold/2023/06/21/haboru-oro...  \n",
       "3  https://index.hu/kulfold/2022/12/23/haboru-oro...  \n",
       "4  https://index.hu/kulfold/2023/05/30/haboru-oro...  "
      ]
     },
     "execution_count": 85,
     "metadata": {},
     "output_type": "execute_result"
    }
   ],
   "source": [
    "df.head()"
   ]
  },
  {
   "cell_type": "code",
   "execution_count": 29,
   "metadata": {},
   "outputs": [
    {
     "data": {
      "text/html": [
       "<div>\n",
       "<style scoped>\n",
       "    .dataframe tbody tr th:only-of-type {\n",
       "        vertical-align: middle;\n",
       "    }\n",
       "\n",
       "    .dataframe tbody tr th {\n",
       "        vertical-align: top;\n",
       "    }\n",
       "\n",
       "    .dataframe thead th {\n",
       "        text-align: right;\n",
       "    }\n",
       "</style>\n",
       "<table border=\"1\" class=\"dataframe\">\n",
       "  <thead>\n",
       "    <tr style=\"text-align: right;\">\n",
       "      <th></th>\n",
       "      <th>title</th>\n",
       "      <th>author</th>\n",
       "      <th>date</th>\n",
       "      <th>text</th>\n",
       "      <th>lead</th>\n",
       "      <th>html</th>\n",
       "      <th>link</th>\n",
       "      <th>title_cleaned</th>\n",
       "    </tr>\n",
       "  </thead>\n",
       "  <tbody>\n",
       "    <tr>\n",
       "      <th>132</th>\n",
       "      <td>Orbán Viktor az új kormány összetételéről és a...</td>\n",
       "      <td>Németh Márton Sándor</td>\n",
       "      <td>2022.04.06. 16:45</td>\n",
       "      <td>Orbán Viktor három pontban összegezte a Fidesz...</td>\n",
       "      <td>A vasárnapi választási győzelem után Orbán Vik...</td>\n",
       "      <td>b'&lt;!DOCTYPE html&gt;\\n&lt;html class=\"no-js\" lang=\"h...</td>\n",
       "      <td>https://index.hu/belfold/2022/04/06/orban-vikt...</td>\n",
       "      <td>Orbán Viktor az új kormány összetételéről és a...</td>\n",
       "    </tr>\n",
       "    <tr>\n",
       "      <th>133</th>\n",
       "      <td>Szakály Sándor: Vlagyimir Putyin nem megy tová...</td>\n",
       "      <td>Bereznay István</td>\n",
       "      <td>2022.04.04. 17:53</td>\n",
       "      <td>A történész kiemelte: a konfliktus még a szovj...</td>\n",
       "      <td>„Úgy gondolom, Vlagyimir Putyin nem megy továb...</td>\n",
       "      <td>b'&lt;!DOCTYPE html&gt;\\n&lt;html class=\"no-js\" lang=\"h...</td>\n",
       "      <td>https://index.hu/belfold/2022/04/04/haboru-oro...</td>\n",
       "      <td>Szakály Sándor: Vlagyimir Putyin nem megy tová...</td>\n",
       "    </tr>\n",
       "    <tr>\n",
       "      <th>134</th>\n",
       "      <td>Mit mondott a kormányoldal és az ellenzék a ka...</td>\n",
       "      <td>Sz.Z.</td>\n",
       "      <td>2022.04.02. 12:26\\nMódosítva: 2022.04.02. 12:26</td>\n",
       "      <td>A kormány szerint a tét: háború vagy béke\\nOrb...</td>\n",
       "      <td>Abban a politikai paletta valamennyi szereplőj...</td>\n",
       "      <td>b'&lt;!DOCTYPE html&gt;\\n&lt;html class=\"no-js\" lang=\"h...</td>\n",
       "      <td>https://index.hu/belfold/2022/04/02/orban-mark...</td>\n",
       "      <td>Mit mondott a kormányoldal és az ellenzék a ka...</td>\n",
       "    </tr>\n",
       "    <tr>\n",
       "      <th>135</th>\n",
       "      <td>Kiállítás nyílt az ukrán menekültek fotóiból Ú...</td>\n",
       "      <td>Varga Maja Bernadett</td>\n",
       "      <td>2022.03.29. 17:03</td>\n",
       "      <td>A fővárosi Móricz Zsigmond körtéren tartott, o...</td>\n",
       "      <td>Kiállítás nyílt az ukrán menekültek fotóiból Ú...</td>\n",
       "      <td>b'&lt;!DOCTYPE html&gt;\\n&lt;html class=\"no-js\" lang=\"h...</td>\n",
       "      <td>https://index.hu/belfold/2022/03/29/haboru-oro...</td>\n",
       "      <td>Kiállítás nyílt az ukrán menekültek fotóiból Ú...</td>\n",
       "    </tr>\n",
       "    <tr>\n",
       "      <th>136</th>\n",
       "      <td>Márki-Zay Péter: Orbán Viktor a Nyugat árulója...</td>\n",
       "      <td>- nms -</td>\n",
       "      <td>2022.02.24. 09:54</td>\n",
       "      <td>Ahogy arról beszámoltunk, Oroszország megtámad...</td>\n",
       "      <td>Az ellenzék miniszterelnök-jelöltje keményen k...</td>\n",
       "      <td>b'&lt;!DOCTYPE html&gt;\\n&lt;html class=\"no-js\" lang=\"h...</td>\n",
       "      <td>https://index.hu/belfold/2022/02/24/marki-zay-...</td>\n",
       "      <td>Márki-Zay Péter: Orbán Viktor a Nyugat árulója...</td>\n",
       "    </tr>\n",
       "  </tbody>\n",
       "</table>\n",
       "</div>"
      ],
      "text/plain": [
       "                                                 title                author  \\\n",
       "132  Orbán Viktor az új kormány összetételéről és a...  Németh Márton Sándor   \n",
       "133  Szakály Sándor: Vlagyimir Putyin nem megy tová...       Bereznay István   \n",
       "134  Mit mondott a kormányoldal és az ellenzék a ka...                 Sz.Z.   \n",
       "135  Kiállítás nyílt az ukrán menekültek fotóiból Ú...  Varga Maja Bernadett   \n",
       "136  Márki-Zay Péter: Orbán Viktor a Nyugat árulója...               - nms -   \n",
       "\n",
       "                                                date  \\\n",
       "132                                2022.04.06. 16:45   \n",
       "133                                2022.04.04. 17:53   \n",
       "134  2022.04.02. 12:26\\nMódosítva: 2022.04.02. 12:26   \n",
       "135                                2022.03.29. 17:03   \n",
       "136                                2022.02.24. 09:54   \n",
       "\n",
       "                                                  text  \\\n",
       "132  Orbán Viktor három pontban összegezte a Fidesz...   \n",
       "133  A történész kiemelte: a konfliktus még a szovj...   \n",
       "134  A kormány szerint a tét: háború vagy béke\\nOrb...   \n",
       "135  A fővárosi Móricz Zsigmond körtéren tartott, o...   \n",
       "136  Ahogy arról beszámoltunk, Oroszország megtámad...   \n",
       "\n",
       "                                                  lead  \\\n",
       "132  A vasárnapi választási győzelem után Orbán Vik...   \n",
       "133  „Úgy gondolom, Vlagyimir Putyin nem megy továb...   \n",
       "134  Abban a politikai paletta valamennyi szereplőj...   \n",
       "135  Kiállítás nyílt az ukrán menekültek fotóiból Ú...   \n",
       "136  Az ellenzék miniszterelnök-jelöltje keményen k...   \n",
       "\n",
       "                                                  html  \\\n",
       "132  b'<!DOCTYPE html>\\n<html class=\"no-js\" lang=\"h...   \n",
       "133  b'<!DOCTYPE html>\\n<html class=\"no-js\" lang=\"h...   \n",
       "134  b'<!DOCTYPE html>\\n<html class=\"no-js\" lang=\"h...   \n",
       "135  b'<!DOCTYPE html>\\n<html class=\"no-js\" lang=\"h...   \n",
       "136  b'<!DOCTYPE html>\\n<html class=\"no-js\" lang=\"h...   \n",
       "\n",
       "                                                  link  \\\n",
       "132  https://index.hu/belfold/2022/04/06/orban-vikt...   \n",
       "133  https://index.hu/belfold/2022/04/04/haboru-oro...   \n",
       "134  https://index.hu/belfold/2022/04/02/orban-mark...   \n",
       "135  https://index.hu/belfold/2022/03/29/haboru-oro...   \n",
       "136  https://index.hu/belfold/2022/02/24/marki-zay-...   \n",
       "\n",
       "                                         title_cleaned  \n",
       "132  Orbán Viktor az új kormány összetételéről és a...  \n",
       "133  Szakály Sándor: Vlagyimir Putyin nem megy tová...  \n",
       "134  Mit mondott a kormányoldal és az ellenzék a ka...  \n",
       "135  Kiállítás nyílt az ukrán menekültek fotóiból Ú...  \n",
       "136  Márki-Zay Péter: Orbán Viktor a Nyugat árulója...  "
      ]
     },
     "execution_count": 29,
     "metadata": {},
     "output_type": "execute_result"
    }
   ],
   "source": [
    "df.tail()"
   ]
  },
  {
   "cell_type": "code",
   "execution_count": 86,
   "metadata": {
    "ExecuteTime": {
     "end_time": "2023-10-04T14:45:12.632084500Z",
     "start_time": "2023-10-04T14:45:10.266193200Z"
    },
    "collapsed": false
   },
   "outputs": [],
   "source": [
    "df['title_cleaned'] = df['title'].apply(lambda text: text.replace(\"\\n\", \"\") if isinstance(text, str) else text)\n",
    "df.to_csv('putin_full.csv')"
   ]
  },
  {
   "cell_type": "code",
   "execution_count": 69,
   "metadata": {},
   "outputs": [
    {
     "data": {
      "text/plain": [
       "'c:\\\\Users\\\\userű\\\\Downloads'"
      ]
     },
     "execution_count": 69,
     "metadata": {},
     "output_type": "execute_result"
    }
   ],
   "source": [
    "import os\n",
    "os.getcwd()"
   ]
  },
  {
   "cell_type": "code",
   "execution_count": 25,
   "metadata": {},
   "outputs": [
    {
     "ename": "FileNotFoundError",
     "evalue": "[Errno 2] No such file or directory: 'C:/Users/userű/Downloads/cleaned_title_list.csv'",
     "output_type": "error",
     "traceback": [
      "\u001b[1;31m---------------------------------------------------------------------------\u001b[0m",
      "\u001b[1;31mFileNotFoundError\u001b[0m                         Traceback (most recent call last)",
      "\u001b[1;32m<ipython-input-25-cb071932627f>\u001b[0m in \u001b[0;36m<module>\u001b[1;34m\u001b[0m\n\u001b[1;32m----> 1\u001b[1;33m \u001b[0mbrusszel_df_1\u001b[0m \u001b[1;33m=\u001b[0m \u001b[0mpd\u001b[0m\u001b[1;33m.\u001b[0m\u001b[0mread_csv\u001b[0m\u001b[1;33m(\u001b[0m\u001b[1;34m'C:/Users/userű/Downloads/cleaned_title_list.csv'\u001b[0m\u001b[1;33m,\u001b[0m \u001b[0mheader\u001b[0m\u001b[1;33m=\u001b[0m\u001b[1;36m0\u001b[0m\u001b[1;33m)\u001b[0m\u001b[1;33m\u001b[0m\u001b[1;33m\u001b[0m\u001b[0m\n\u001b[0m",
      "\u001b[1;32mc:\\Anaconda3\\lib\\site-packages\\pandas\\io\\parsers.py\u001b[0m in \u001b[0;36mread_csv\u001b[1;34m(filepath_or_buffer, sep, delimiter, header, names, index_col, usecols, squeeze, prefix, mangle_dupe_cols, dtype, engine, converters, true_values, false_values, skipinitialspace, skiprows, skipfooter, nrows, na_values, keep_default_na, na_filter, verbose, skip_blank_lines, parse_dates, infer_datetime_format, keep_date_col, date_parser, dayfirst, cache_dates, iterator, chunksize, compression, thousands, decimal, lineterminator, quotechar, quoting, doublequote, escapechar, comment, encoding, dialect, error_bad_lines, warn_bad_lines, delim_whitespace, low_memory, memory_map, float_precision, storage_options)\u001b[0m\n\u001b[0;32m    608\u001b[0m     \u001b[0mkwds\u001b[0m\u001b[1;33m.\u001b[0m\u001b[0mupdate\u001b[0m\u001b[1;33m(\u001b[0m\u001b[0mkwds_defaults\u001b[0m\u001b[1;33m)\u001b[0m\u001b[1;33m\u001b[0m\u001b[1;33m\u001b[0m\u001b[0m\n\u001b[0;32m    609\u001b[0m \u001b[1;33m\u001b[0m\u001b[0m\n\u001b[1;32m--> 610\u001b[1;33m     \u001b[1;32mreturn\u001b[0m \u001b[0m_read\u001b[0m\u001b[1;33m(\u001b[0m\u001b[0mfilepath_or_buffer\u001b[0m\u001b[1;33m,\u001b[0m \u001b[0mkwds\u001b[0m\u001b[1;33m)\u001b[0m\u001b[1;33m\u001b[0m\u001b[1;33m\u001b[0m\u001b[0m\n\u001b[0m\u001b[0;32m    611\u001b[0m \u001b[1;33m\u001b[0m\u001b[0m\n\u001b[0;32m    612\u001b[0m \u001b[1;33m\u001b[0m\u001b[0m\n",
      "\u001b[1;32mc:\\Anaconda3\\lib\\site-packages\\pandas\\io\\parsers.py\u001b[0m in \u001b[0;36m_read\u001b[1;34m(filepath_or_buffer, kwds)\u001b[0m\n\u001b[0;32m    460\u001b[0m \u001b[1;33m\u001b[0m\u001b[0m\n\u001b[0;32m    461\u001b[0m     \u001b[1;31m# Create the parser.\u001b[0m\u001b[1;33m\u001b[0m\u001b[1;33m\u001b[0m\u001b[1;33m\u001b[0m\u001b[0m\n\u001b[1;32m--> 462\u001b[1;33m     \u001b[0mparser\u001b[0m \u001b[1;33m=\u001b[0m \u001b[0mTextFileReader\u001b[0m\u001b[1;33m(\u001b[0m\u001b[0mfilepath_or_buffer\u001b[0m\u001b[1;33m,\u001b[0m \u001b[1;33m**\u001b[0m\u001b[0mkwds\u001b[0m\u001b[1;33m)\u001b[0m\u001b[1;33m\u001b[0m\u001b[1;33m\u001b[0m\u001b[0m\n\u001b[0m\u001b[0;32m    463\u001b[0m \u001b[1;33m\u001b[0m\u001b[0m\n\u001b[0;32m    464\u001b[0m     \u001b[1;32mif\u001b[0m \u001b[0mchunksize\u001b[0m \u001b[1;32mor\u001b[0m \u001b[0miterator\u001b[0m\u001b[1;33m:\u001b[0m\u001b[1;33m\u001b[0m\u001b[1;33m\u001b[0m\u001b[0m\n",
      "\u001b[1;32mc:\\Anaconda3\\lib\\site-packages\\pandas\\io\\parsers.py\u001b[0m in \u001b[0;36m__init__\u001b[1;34m(self, f, engine, **kwds)\u001b[0m\n\u001b[0;32m    817\u001b[0m             \u001b[0mself\u001b[0m\u001b[1;33m.\u001b[0m\u001b[0moptions\u001b[0m\u001b[1;33m[\u001b[0m\u001b[1;34m\"has_index_names\"\u001b[0m\u001b[1;33m]\u001b[0m \u001b[1;33m=\u001b[0m \u001b[0mkwds\u001b[0m\u001b[1;33m[\u001b[0m\u001b[1;34m\"has_index_names\"\u001b[0m\u001b[1;33m]\u001b[0m\u001b[1;33m\u001b[0m\u001b[1;33m\u001b[0m\u001b[0m\n\u001b[0;32m    818\u001b[0m \u001b[1;33m\u001b[0m\u001b[0m\n\u001b[1;32m--> 819\u001b[1;33m         \u001b[0mself\u001b[0m\u001b[1;33m.\u001b[0m\u001b[0m_engine\u001b[0m \u001b[1;33m=\u001b[0m \u001b[0mself\u001b[0m\u001b[1;33m.\u001b[0m\u001b[0m_make_engine\u001b[0m\u001b[1;33m(\u001b[0m\u001b[0mself\u001b[0m\u001b[1;33m.\u001b[0m\u001b[0mengine\u001b[0m\u001b[1;33m)\u001b[0m\u001b[1;33m\u001b[0m\u001b[1;33m\u001b[0m\u001b[0m\n\u001b[0m\u001b[0;32m    820\u001b[0m \u001b[1;33m\u001b[0m\u001b[0m\n\u001b[0;32m    821\u001b[0m     \u001b[1;32mdef\u001b[0m \u001b[0mclose\u001b[0m\u001b[1;33m(\u001b[0m\u001b[0mself\u001b[0m\u001b[1;33m)\u001b[0m\u001b[1;33m:\u001b[0m\u001b[1;33m\u001b[0m\u001b[1;33m\u001b[0m\u001b[0m\n",
      "\u001b[1;32mc:\\Anaconda3\\lib\\site-packages\\pandas\\io\\parsers.py\u001b[0m in \u001b[0;36m_make_engine\u001b[1;34m(self, engine)\u001b[0m\n\u001b[0;32m   1048\u001b[0m             )\n\u001b[0;32m   1049\u001b[0m         \u001b[1;31m# error: Too many arguments for \"ParserBase\"\u001b[0m\u001b[1;33m\u001b[0m\u001b[1;33m\u001b[0m\u001b[1;33m\u001b[0m\u001b[0m\n\u001b[1;32m-> 1050\u001b[1;33m         \u001b[1;32mreturn\u001b[0m \u001b[0mmapping\u001b[0m\u001b[1;33m[\u001b[0m\u001b[0mengine\u001b[0m\u001b[1;33m]\u001b[0m\u001b[1;33m(\u001b[0m\u001b[0mself\u001b[0m\u001b[1;33m.\u001b[0m\u001b[0mf\u001b[0m\u001b[1;33m,\u001b[0m \u001b[1;33m**\u001b[0m\u001b[0mself\u001b[0m\u001b[1;33m.\u001b[0m\u001b[0moptions\u001b[0m\u001b[1;33m)\u001b[0m  \u001b[1;31m# type: ignore[call-arg]\u001b[0m\u001b[1;33m\u001b[0m\u001b[1;33m\u001b[0m\u001b[0m\n\u001b[0m\u001b[0;32m   1051\u001b[0m \u001b[1;33m\u001b[0m\u001b[0m\n\u001b[0;32m   1052\u001b[0m     \u001b[1;32mdef\u001b[0m \u001b[0m_failover_to_python\u001b[0m\u001b[1;33m(\u001b[0m\u001b[0mself\u001b[0m\u001b[1;33m)\u001b[0m\u001b[1;33m:\u001b[0m\u001b[1;33m\u001b[0m\u001b[1;33m\u001b[0m\u001b[0m\n",
      "\u001b[1;32mc:\\Anaconda3\\lib\\site-packages\\pandas\\io\\parsers.py\u001b[0m in \u001b[0;36m__init__\u001b[1;34m(self, src, **kwds)\u001b[0m\n\u001b[0;32m   1865\u001b[0m \u001b[1;33m\u001b[0m\u001b[0m\n\u001b[0;32m   1866\u001b[0m         \u001b[1;31m# open handles\u001b[0m\u001b[1;33m\u001b[0m\u001b[1;33m\u001b[0m\u001b[1;33m\u001b[0m\u001b[0m\n\u001b[1;32m-> 1867\u001b[1;33m         \u001b[0mself\u001b[0m\u001b[1;33m.\u001b[0m\u001b[0m_open_handles\u001b[0m\u001b[1;33m(\u001b[0m\u001b[0msrc\u001b[0m\u001b[1;33m,\u001b[0m \u001b[0mkwds\u001b[0m\u001b[1;33m)\u001b[0m\u001b[1;33m\u001b[0m\u001b[1;33m\u001b[0m\u001b[0m\n\u001b[0m\u001b[0;32m   1868\u001b[0m         \u001b[1;32massert\u001b[0m \u001b[0mself\u001b[0m\u001b[1;33m.\u001b[0m\u001b[0mhandles\u001b[0m \u001b[1;32mis\u001b[0m \u001b[1;32mnot\u001b[0m \u001b[1;32mNone\u001b[0m\u001b[1;33m\u001b[0m\u001b[1;33m\u001b[0m\u001b[0m\n\u001b[0;32m   1869\u001b[0m         \u001b[1;32mfor\u001b[0m \u001b[0mkey\u001b[0m \u001b[1;32min\u001b[0m \u001b[1;33m(\u001b[0m\u001b[1;34m\"storage_options\"\u001b[0m\u001b[1;33m,\u001b[0m \u001b[1;34m\"encoding\"\u001b[0m\u001b[1;33m,\u001b[0m \u001b[1;34m\"memory_map\"\u001b[0m\u001b[1;33m,\u001b[0m \u001b[1;34m\"compression\"\u001b[0m\u001b[1;33m)\u001b[0m\u001b[1;33m:\u001b[0m\u001b[1;33m\u001b[0m\u001b[1;33m\u001b[0m\u001b[0m\n",
      "\u001b[1;32mc:\\Anaconda3\\lib\\site-packages\\pandas\\io\\parsers.py\u001b[0m in \u001b[0;36m_open_handles\u001b[1;34m(self, src, kwds)\u001b[0m\n\u001b[0;32m   1360\u001b[0m         \u001b[0mLet\u001b[0m \u001b[0mthe\u001b[0m \u001b[0mreaders\u001b[0m \u001b[0mopen\u001b[0m \u001b[0mIOHanldes\u001b[0m \u001b[0mafter\u001b[0m \u001b[0mthey\u001b[0m \u001b[0mare\u001b[0m \u001b[0mdone\u001b[0m \u001b[1;32mwith\u001b[0m \u001b[0mtheir\u001b[0m \u001b[0mpotential\u001b[0m \u001b[0mraises\u001b[0m\u001b[1;33m.\u001b[0m\u001b[1;33m\u001b[0m\u001b[1;33m\u001b[0m\u001b[0m\n\u001b[0;32m   1361\u001b[0m         \"\"\"\n\u001b[1;32m-> 1362\u001b[1;33m         self.handles = get_handle(\n\u001b[0m\u001b[0;32m   1363\u001b[0m             \u001b[0msrc\u001b[0m\u001b[1;33m,\u001b[0m\u001b[1;33m\u001b[0m\u001b[1;33m\u001b[0m\u001b[0m\n\u001b[0;32m   1364\u001b[0m             \u001b[1;34m\"r\"\u001b[0m\u001b[1;33m,\u001b[0m\u001b[1;33m\u001b[0m\u001b[1;33m\u001b[0m\u001b[0m\n",
      "\u001b[1;32mc:\\Anaconda3\\lib\\site-packages\\pandas\\io\\common.py\u001b[0m in \u001b[0;36mget_handle\u001b[1;34m(path_or_buf, mode, encoding, compression, memory_map, is_text, errors, storage_options)\u001b[0m\n\u001b[0;32m    640\u001b[0m                 \u001b[0merrors\u001b[0m \u001b[1;33m=\u001b[0m \u001b[1;34m\"replace\"\u001b[0m\u001b[1;33m\u001b[0m\u001b[1;33m\u001b[0m\u001b[0m\n\u001b[0;32m    641\u001b[0m             \u001b[1;31m# Encoding\u001b[0m\u001b[1;33m\u001b[0m\u001b[1;33m\u001b[0m\u001b[1;33m\u001b[0m\u001b[0m\n\u001b[1;32m--> 642\u001b[1;33m             handle = open(\n\u001b[0m\u001b[0;32m    643\u001b[0m                 \u001b[0mhandle\u001b[0m\u001b[1;33m,\u001b[0m\u001b[1;33m\u001b[0m\u001b[1;33m\u001b[0m\u001b[0m\n\u001b[0;32m    644\u001b[0m                 \u001b[0mioargs\u001b[0m\u001b[1;33m.\u001b[0m\u001b[0mmode\u001b[0m\u001b[1;33m,\u001b[0m\u001b[1;33m\u001b[0m\u001b[1;33m\u001b[0m\u001b[0m\n",
      "\u001b[1;31mFileNotFoundError\u001b[0m: [Errno 2] No such file or directory: 'C:/Users/userű/Downloads/cleaned_title_list.csv'"
     ]
    }
   ],
   "source": [
    "brusszel_df_1 = pd.read_csv('C:/Users/userű/Downloads/cleaned_title_list.csv', header=0)\n"
   ]
  },
  {
   "cell_type": "code",
   "execution_count": null,
   "metadata": {},
   "outputs": [],
   "source": [
    "#COMMENTS\n",
    "\n",
    " # Python packages for text mining\n",
    "\n",
    "    #nrclex a modell\n",
    "    #vader - pretty good\n",
    "    #glove model"
   ]
  }
 ],
 "metadata": {
  "kernelspec": {
   "display_name": "Python 3",
   "language": "python",
   "name": "python3"
  },
  "language_info": {
   "codemirror_mode": {
    "name": "ipython",
    "version": 3
   },
   "file_extension": ".py",
   "mimetype": "text/x-python",
   "name": "python",
   "nbconvert_exporter": "python",
   "pygments_lexer": "ipython3",
   "version": "3.8.8"
  },
  "orig_nbformat": 4
 },
 "nbformat": 4,
 "nbformat_minor": 2
}
